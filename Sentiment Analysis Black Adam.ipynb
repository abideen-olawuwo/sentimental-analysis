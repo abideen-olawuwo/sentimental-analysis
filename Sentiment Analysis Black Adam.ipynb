{
 "cells": [
  {
   "cell_type": "markdown",
   "metadata": {},
   "source": [
    "## Import the Model"
   ]
  },
  {
   "cell_type": "code",
   "execution_count": 37,
   "metadata": {
    "execution": {
     "iopub.execute_input": "2022-11-20T11:36:25.563300Z",
     "iopub.status.busy": "2022-11-20T11:36:25.562842Z",
     "iopub.status.idle": "2022-11-20T11:36:25.569139Z",
     "shell.execute_reply": "2022-11-20T11:36:25.567950Z",
     "shell.execute_reply.started": "2022-11-20T11:36:25.563263Z"
    }
   },
   "outputs": [],
   "source": [
    "from transformers import AutoTokenizer, AutoModelForSequenceClassification\n",
    "import torch\n",
    "import requests\n",
    "from bs4 import BeautifulSoup\n",
    "import re\n",
    "import pandas as pd\n",
    "import numpy as np"
   ]
  },
  {
   "cell_type": "markdown",
   "metadata": {},
   "source": [
    "## Instantiate Model"
   ]
  },
  {
   "cell_type": "code",
   "execution_count": 38,
   "metadata": {
    "execution": {
     "iopub.execute_input": "2022-11-20T11:36:25.606635Z",
     "iopub.status.busy": "2022-11-20T11:36:25.605718Z",
     "iopub.status.idle": "2022-11-20T11:36:31.769027Z",
     "shell.execute_reply": "2022-11-20T11:36:31.767569Z",
     "shell.execute_reply.started": "2022-11-20T11:36:25.606564Z"
    }
   },
   "outputs": [],
   "source": [
    "\n",
    "tokenizer = AutoTokenizer.from_pretrained('nlptown/bert-base-multilingual-uncased-sentiment')\n",
    "\n",
    "model = AutoModelForSequenceClassification.from_pretrained('nlptown/bert-base-multilingual-uncased-sentiment')"
   ]
  },
  {
   "cell_type": "markdown",
   "metadata": {},
   "source": [
    "## Data Collection"
   ]
  },
  {
   "cell_type": "code",
   "execution_count": 39,
   "metadata": {
    "execution": {
     "iopub.execute_input": "2022-11-20T11:36:31.774511Z",
     "iopub.status.busy": "2022-11-20T11:36:31.774052Z",
     "iopub.status.idle": "2022-11-20T11:36:33.156702Z",
     "shell.execute_reply": "2022-11-20T11:36:33.155738Z",
     "shell.execute_reply.started": "2022-11-20T11:36:31.774474Z"
    }
   },
   "outputs": [],
   "source": [
    "r = requests.get('https://www.imdb.com/title/tt6443346/reviews?dir=asc&ratingFilter=0')\n",
    "soup = BeautifulSoup(r.text, 'html.parser')\n",
    "regex = re.compile('.*text show-more__control.*')\n",
    "results = soup.find_all('div', {'class':regex})\n",
    "reviews = [result.text for result in results]"
   ]
  },
  {
   "cell_type": "markdown",
   "metadata": {},
   "source": [
    "## Load Reviews"
   ]
  },
  {
   "cell_type": "code",
   "execution_count": 40,
   "metadata": {
    "execution": {
     "iopub.execute_input": "2022-11-20T11:36:33.159119Z",
     "iopub.status.busy": "2022-11-20T11:36:33.158442Z",
     "iopub.status.idle": "2022-11-20T11:36:33.167614Z",
     "shell.execute_reply": "2022-11-20T11:36:33.166556Z",
     "shell.execute_reply.started": "2022-11-20T11:36:33.159073Z"
    }
   },
   "outputs": [
    {
     "data": {
      "text/plain": [
       "[\"Just saw the black adam and had a great experience. Critics are judging this movie by the marvel standards with perfect ethics and first world problem. This is the first superhero movie I saw ehich shed a small light on the third world countries. Critics didn't relate to the problems of the third world countries so they have different understanding of a superhero. But superhero is not the one who doesn't kill but the one who understand what needs to be done. This is the perfect example of how DC universe should be build upon.I know it didn't had much character building done in the story. Although it showed alot more than that, that is, how to build a cenematic universe.\",\n",
       " \"Once I start watching a movie I almost always watch it to the end. However with Black Adam I was soo disappointed that I walked out after 40 minutes. Such a disappointment, I really like the Rock, but this movie was just all about the CGI. Poor acting, poor script and story line, ideas stolen from too many movies, superman, tomb raider, lord of the rings ... and it goes on. Such a derivative and a boring movie. If this is what goes for entertainment now I'm out. I wasn't looking for high brow just a super hero escape movie but this failed to deliver. I can see that a lot of money was spent on the CGI but that does not make up for a poor script and storyline.\",\n",
       " \"The movie isn't a bad movie the action sequences were amazing and the fights hardcore as u would expect from a movie with the rock in it but there should have been more\\nI feel like the story wasn't interesting enough, it felt like I was a vrs movie watching and I think this was intentional but in these times superhero movies are more than just action not with movies in ''wakanda forever'' around movies they tell stories that makenthe audience remember them for a very long time or at least touch hearts\\nSo yeah I think they could have done better given the amount of money and Time they spent on the movie.\",\n",
       " \"The movie is a great time and definitely recommend! The cgi could have been better and they cold have shown how strong Doctor fate was better. Doctor Fate is much stronger then they portrayed him to be. I think this is a great installment to the DCEU. I'm truly want to see more of Hawkman and Dr. Fate. No I need to see more of them. Would love to see them build up the justice society. Loved The justice society. Everything aft this point will be a repeat because I need a max of 600 characters to post this, just a heads up. The movie is a great time and definitely recommend! The cgi could have been better and they cold have shown how strong Doctor fate was better.\",\n",
       " \"This movie was so continuous. I never felt like this a relaxing part in the movie. Kind of felt tiresome to me. Otherwise it was really interesting to watch. Also this is different than heroes like Batman who never kill. Lying and sometimes killing is required. You can't always be the morally good person and still fare well.It had its share of mystery in it. The justice society seemed less powerful in the start but were actually capable as was seen later. The seeing fate part wasn't liked by me at first but it was nice to see how it panned out(if you don't get why it's interesting you have to see the movie).Overall perfect but seemed too much action packed for some reason. I would have preferred a slower pace.\",\n",
       " \"Black Adam is a full on Cinamatic experience, I went into Black Adam not knowing it was tied with Shazam but let me tell you I love every single moment of it The fights, the lighting, the story all the way throughout I was entertained this movie is a must watch don't listen to the reviews that tell you it's not a good movie or it's not worth watching, If you like Shazam, Superman and The justice League you'll love this movie even more I'm not really a massive DC fan I'm more Marvel so I don't know much about Reviews when it comes to DC, But Black Adam was I film I enjoyed the last film I really enjoyed was Black Panther: Wakanda Forever.\",\n",
       " 'There are always the same mistakes. It\\'s really sad that nowadays superhero movies have to be less brutally. This movie would have been so good if they made it more brutally for sure. I also don\\'t like these bad jokes all the time, of course there were some good ones like the \"good, the bad and the ugly\" but the rest is just unpleasent. I also don\\'t have to talk about the bad pacing the movie had. But the worst is by far how they introduce new characters like Dr. Fate and instantly let them die for a less important character.Score and cgi (most time) were great\\nCharacter stories werent explanied at all (except for black adam of course, his story was quiet well)\\nSlow motion cuts were good but to much i guess7 stars may be too high but i kind of enjoyed the movie\\nTo much hate online i guess, but we all know that there are some mistakes that are being made all the time unfortunatlyPost credit scene was absolutly great!',\n",
       " \"I set my bar low, so I wont be neither dissapointed nor satisfied.DCEU is chaotic, surely chaotic. So does Black Adam, a chaotic film just like other DCEU movies.Fascinating CGI, wonderful action scenes, but I have some problems with cliche plot and pacing.Just look at the comic relief moments. Random flashy car in the middle of desert, some comedic moments for a badass character, a comedic fat guy who had some good moments and some cringe moments, and references/nod to other movies (in this case Western).And now look at the dialogues, it's just ughhh.... How in the world a guy imprisoned for 5000 years speak perfect English with modern days dictionaries within days? Well I can tolerate it for pacing purposes, but cmon the screenwriter can do better.Well, thats all I can say.\",\n",
       " 'I watched this movie today. And (despite the fact that was my first experience in CU\\'s)i love this movie. But most great part is in the after credits.(This part is spoiler if you didn\\'t watched the movie)In the end of after credits,there is Superman. That goddamn Superman. Outside of that,movie is pretty solid. Especially the part where Black Adam says \"Shazam!\"and then fights with that demon thing(i forgot his name). So actually,this movie is above great for me. Even though first parts are boring,last and middle parts of the movie is really carries that movie. This movie is my first DCCU (Dc Cinematic Universe) movie so thats okay for me.',\n",
       " \"Black Adam is competently made. It handles setup and payoff well, characters have decent arcs, the story is ok, the visuals are nice to look at. It contains jokes which made me giggle out loud a couple times. This is the kind of movie Marvel used to make before it all became... well, you know what happened with Marvel.Downsides of Black Adam include: skybeams; the villain having the same powers as the hero; a faceless horde of CGI cannon fodder monsters; starting with a team up with unknown characters. If you don't mind those comic book movie tropes, you will enjoy it.Lastly, I want to underline that the character of Teth Adam was handled very well, his lines are the highlights of the movie and The Rock is brilliant in this role.\",\n",
       " \"It wouldn't be wise to go into this movie with huge expectations. The story has funny moments and well-writted punchlines, but the storyline becomes loose from the start; I found myself forgetting what movie I was watching a few times. The Rock's acting becomes a little 2-dimensional at times; it's made up in humor based on his lack of knowledge of modern society (after being asleep for 5000 years).What holds a majority of my rating is the action and graphics! They incorporated excellent slowmo scenes, which Morbius has showed that's easy to flop. It's also a breath of fresh air to see The Rock in a villain-type character along with his action sequences. His introduction scene alone was a massacre and gave me chills; his presence of invulnerability was unmatched.To wrap it up, the only thing missing here is a solid storyline. They reintroduced Henry Cavill's Superman into the DCEU, which seems like a lazy way to make a movie important. I feel like there's definitely going to be a sequel, so here's to hoping that the next Superman movie or Black Adam sequel has more substance!\",\n",
       " 'Hands down one of the best super hero movie ever. MAN it was action packed. It really served according to its hype.loved it from start to end. Heard people think it was too \"serious\" wt# no it had a lot of humor, the whole theater was laughing at those jokes and the jokes weren\\'t forced as in marvel movies. Overall the best movie of the year plus best comic book movie. Everything about it was perfect.love the justice society especially dr.fate. Sarah shahi was also really good in it.post credit scene was chef\\'s kiss, the whole theater was cheering at that moment. Can\\'t wait for what\\'s next in store for his story.',\n",
       " 'Fun, epic, action packed movie, very enjoyable, the CGI for the movie is on point, dr. Fate and Hawkman is definitely a show stealer and are the most interesting characters in the movie. Atom smasher is also great along with cyclone. The only problem with this movie is probably the origin story, and the tone for Black Adam, the Rock poured his heart out in putting this character into the big screens but somehow it still lacked something, after watching the movie, it did make me ask for more, might watch it again, would I recommend it for other people to watch? Absolutely, go watch the movie and form your opinion, I enjoyed it and maybe you will too. Definitely a Solid 8/10 for me.',\n",
       " \"The film felt so good for me, it's absolutely a big theater experience of this year. It has an decent script and good CGI and vfx works. Direction was outstanding. It is more cinematic entertainment stuff other than a comic book movie / series. It is not a complete one man show other actors have there on place to play, dr. Fate such a badass, hawkman, cyclone, atom smasher everyone was literally on fire. And the post credit scene, i was excited to hear john Williams scoring but i cant hear it well, may be next time or when the film arrives on ott, Dwayne Johnson did his better as black Adam...\",\n",
       " 'The latest installment in the DCEU has been criticized for its lacking plot, but has redeeming action sequences.Fun Action Sequences :\\nThere are quite a lot of action sequences in this movie, and most of them are a lot of fun. When Black Adam fight his enemies, he is ruthless and will almost always kill them. This is very much satifying to watch, considering the \"arrest first, kill later\" rule in a few of the heroes in the DC Universe, *cough* Batman. He is also probably one of the most brutal DCEU \"hero\" to this date. He\\'s more of an antihero that way, and I enjoy the sort of brutal ways he kills and annihilate his enemies. I personally would\\'ve better enjoyed an R rated Black Adam, but daddy Warner needs the money. But overall, the action is still very good.Good CGI and Visual Effects :\\nI personally loved the CGI and VFX included in this movie. The lightning from Black Adam, the explosions, and the destruction caused are all done very well. There were some scenes that had CGI that felt a bit off, but most of it were done very nicely. Considering that Marvel is falling off in the CGI world of superhero movies, I would say that this movie had pretty good CGI and visual effects.Nice Sound Effects and Music :\\nThere isn\\'t much to say about this category. In my opinion, the sound effects in this movie were done nicely. The sounds of the explosions, destruction, etc. Were overall pretty good. I also personally liked the main theme of Black Adam. It has the dramatic and dark vibe of Black Adam. So yeah, in this category there isn\\'t really much to complain about.Great Cast and Characters :\\nI loved the fact that Dwayne \"The Rock\" Johnson is finally doing a superhero movie. His enormous body just fits for the role. I also loved that they also brought in the legend, Pierce Brosnan in here to play Doctor Fate, which is a very cool character. The characters in this movie were pretty lovable, with the Justice Society and Black Adam himself. The humor of the characters in this movie were also done pretty nicely. There wasn\\'t a lot of it but they didn\\'t feel forced, which is a great thing.Alright, enough with the good... Let\\'s get into the problems with this movie.Lacking Plot :\\nTo be honest, I agree with the critics on this one. The plot of this movie is kind of lacking. It is a fast-paced plot but it felt just a little bit... boring? I can\\'t really explain this one without spoiling the movie but the plot is not really the best. I don\\'t think it\\'s \"the worst plot in the history of Hollywood\" but it definitely isn\\'t the best. It is still acceptable to watch and there are still some good parts but the fact that the main villain only appears in the final act of the movie is just... bad.Bad Character Development :\\nAs with I said before, the character development in this movie is pretty bad. It felt like the plot only focused on the development of Black Adam, leaving the other characters out and make them forgettable. The Justice Society in the comics is a great team consisting some of the coolest heroes in DC comics, but in this movie they felt more like a joke. There was almost no development of the characters in the Justice Society, they just... appeared. And I think they wasted the opportunity of Doctor Fate\\'s character in this movie, he is a very cool character in my opinion, but this movie doesn\\'t even tell anything about him, he\\'s just there. I know this movie is supposed to be Black Adam\\'s movie but still... care about the other characters a little maybe?So overall, I\\'d say that Black Adam is still a very fun movie to watch in the cinemas for all the action and VFX. But if you\\'re looking for a superhero movie that tells a great story, Black Adam is not for you.Andrew Warren\\nOctober 24th, 2022.',\n",
       " \"The action of the movie was good. The vfx was also good. But bringing Superman in front of Black Adam was a big mistake of the Justice Society. Because according to DC comics, Black Adam is DC's most powerful character. Since DC fans are more of a Superman fan, maybe DC needs to take a hit with this one. Maybe DC has something in mind for it. But if Superman can't face Black Adam in a face-to-face fight. Then DC will disappoint their fans. It is very likely that Superman will lose a fight with Black Adam because in the comics it has been shown that Black Adam is very difficult to control when he is angry. But the Justice Society made the same mistake by asking Black Adam to stay in their prison, giving him a challenge.\",\n",
       " \"The Rock as Black Adam was totally believable. He embodied the spirit of Black Adam. The movie held my attention throughout except for a short lul about 3/4 of the way through and then it picked up steam to the end.The cgi was amazing. Fluid and sharp. The slow motion sequences were great.The acting was solid among the characters. Pierce Brosnan was superb as Dr Fate. The other first timers were very good as Cyclone and Atom Smasher. Although a bit campy at times, between Dark Adam and the human boy.The storyline was somewhat choppy, bouncing back and forth in flashbacks to explain the origin of Teth-Adam.I'm not sure it knew what kind of movie it wanted to be, serious, like recent Batman and Superman movies or more humorous like Shazam.Overall it was a solid fun 2 hours, well worth the admission price.\",\n",
       " \"This is a really great movie from DC after a while and action was superb. The graphics appeared to be so epic and the acting by the actors was awesome especially Dwayne Johnson, oh man he was the best! And suit was super cool!. I suggest you, if you wanna watch this movie then surely watch this on cinemas or you won't get vibes of the action which makes the movie super amazing...\\nMoreover the villains, the story(especially the story was really epic)I mean this had everything you can image of like emotional touch and you know what I mean so I just wanna say that this is a really super good, awesome etc. Movie and you should watch this!!\",\n",
       " \"Watched it at the cinema today. I liked the film. Cool action, but the plot is very formulaic. However, the stereotyped plot is perhaps the only weak point of the film, for which I put away two stars.Everything else is great.Everyone praises Adam, but I also LIKED SO MUCH Dr. Faith and Hawk. As for Faith... well, hopefully we'll see more of Pierce in the movies. But the Hawk has become a real find, I can not wait for his appearance in new films. I think Aldis Hodge played his character wonderfully: he is cool and ambiguous.I expect that after this, the DC will begin a new dawn. Let's just say that this film gave me back the faith that all is not lost for the DC.\",\n",
       " \"I was expecting more since this is an action movie about heroes that is not Marvel.The cgi was okay, not as bad as marvel movies but still very unrealistic.Some of the actors were acting really badly like I couldn't feel at all their emotions while having their dramatic parts in the movie.Character designs were weak and basic, I noticed that this DC movie looked more like a Marvel movie in terms of visuals and character designs.I felt that that is what they were trying to do since the abilities of the heroes were too similar to Marvel heroes.Fighting choreography was too basic, at some point it got too repetitive as well.Plot was very simple, no plot twist, nothing interesting, I could tell where it was going from the first quarter of the movie.Suitable for kids to enjoy.\",\n",
       " \"I enjoyed Black Adam's refreshing story about an anti-hero thats relentless and powerful. Dj may be a mediocre actor but the costumes were great and Dr. Fate and Hawkman really steal the show. Plus the action was cool and the interesting way of telling his backstory was also done well. I will say that I am not a fan of the zombies and the people fighting them was kind of cringey. They could of done more to show just how oppressed khandaq was by the foreign invaders and should have dove in deeper into that and compared it to King Akh-Tons oppression. Sabbac was ok but forgettable. The fight with him and Black Adam should have been longer at the end and ending in the same way but showing Black Adam take some sort of beating in the process. Cyclone and Atom Smasher were great in the scenes that they were in but they really didn't do much in the movie. We need a Shazam 3 with Black Adam as the villain and maybe even draw inspiration from the animated Superman/Shazam Vs Black Adam movie. The cameo at the end with Cavill is a huge win for Dc as well.\",\n",
       " \"I wasn't entirely sure what to expect, but i ended up actually really liking this movie! The fight scenes were awesome, and packed with awesome visual effects!! I also wanted to give a little shout out to the justice society, especially Dr. Fate, and Atom smasher! One thing that I wasn't enthralled with was the comedy, many of the jokes came off very cheap and basic, which is pretty usual in these kinds of movies! I also was hoping that they weren't gonna kill off Dr. Fate, because he has so much more potential and i was hoping to see more of him throughout the movie, but sadly that did not happen, which was a bummer. But none the less, i would recommend this movie to any super hero fans! The fight scenes were intense and very entertaining!\",\n",
       " \"Let's get straight to the point:-\\nAction scenes are Breath taking, Slo-mo are super cool, and most importantly The Rock as Black Adam was perfect, he did something different from his comic roles in films and did a serious role, loved it.There are lots of action sceneStory could have been better thoVillian was forgettable but JSA members are awesome. Doctor Fate became my instant favorite, rivalry between BA and Hawkman was sweetVisuals are good but at some point you would feel the CGI was not flawless.I liked the backstory, they changed it from its source material where Teth Adam was a ruthless guy who killed his nephew for power but it was show different in movie, Backstory could have been little longerI had little expectations from SABBAC but it didn't deliver. He had little to no dialogues and does felt that threat (For reference Doomsday in BvS was felt real threat)Overall i enjoyed the movie. It was super entertaining and can't wait to see Black Adam's future in DC universe, and oh yeah, don't you dare miss the post-credit scene 😉\",\n",
       " \"While the writing and story wasn't perfect, Black Adam is still an action packed superhero movie with great CGI AND VFX. I wish the film would be a bit longer so that JLA characters could have more character development. Doctor fate was my favourite but i wish they should have shown more of his abilities and powers. The end credit scene was, well let's not spoil it for others. The villain was very forgettable, but his looks were great. I don't care what critics says about this movie but i loved it. If you are into mindless action movies, then go for it. Again, the movie isn't perfect, it's definitely not bad.\",\n",
       " 'As always i can\\'t get entersted by watching DC movie what i wanna say is the story is so dramatic and can be expected even the last scene in the movie you can except who is black adam gonna meet\\nOverall the movie isn\\'t interesting - for me - but I\\'ve liked the visual effects and colors of it so much i really recommend watching this on good cinema\\nMaybe i think DC should think about a new character with a new powers even marvel didn\\'t have a character like it\\nYeah one more thing they had a character is a copy of \"doctor strange\" from marvel , even he is called a doctor; but not a doctor and sorry i forgot his name.']"
      ]
     },
     "execution_count": 40,
     "metadata": {},
     "output_type": "execute_result"
    }
   ],
   "source": [
    "reviews"
   ]
  },
  {
   "cell_type": "code",
   "execution_count": 41,
   "metadata": {
    "execution": {
     "iopub.execute_input": "2022-11-20T11:36:33.169681Z",
     "iopub.status.busy": "2022-11-20T11:36:33.169358Z",
     "iopub.status.idle": "2022-11-20T11:36:33.178874Z",
     "shell.execute_reply": "2022-11-20T11:36:33.177862Z",
     "shell.execute_reply.started": "2022-11-20T11:36:33.169653Z"
    }
   },
   "outputs": [],
   "source": [
    "df = pd.DataFrame(np.array(reviews), columns=['review'])"
   ]
  },
  {
   "cell_type": "code",
   "execution_count": 42,
   "metadata": {
    "execution": {
     "iopub.execute_input": "2022-11-20T11:36:33.181659Z",
     "iopub.status.busy": "2022-11-20T11:36:33.181337Z",
     "iopub.status.idle": "2022-11-20T11:36:33.196382Z",
     "shell.execute_reply": "2022-11-20T11:36:33.195134Z",
     "shell.execute_reply.started": "2022-11-20T11:36:33.181631Z"
    }
   },
   "outputs": [
    {
     "data": {
      "text/html": [
       "<div>\n",
       "<style scoped>\n",
       "    .dataframe tbody tr th:only-of-type {\n",
       "        vertical-align: middle;\n",
       "    }\n",
       "\n",
       "    .dataframe tbody tr th {\n",
       "        vertical-align: top;\n",
       "    }\n",
       "\n",
       "    .dataframe thead th {\n",
       "        text-align: right;\n",
       "    }\n",
       "</style>\n",
       "<table border=\"1\" class=\"dataframe\">\n",
       "  <thead>\n",
       "    <tr style=\"text-align: right;\">\n",
       "      <th></th>\n",
       "      <th>review</th>\n",
       "    </tr>\n",
       "  </thead>\n",
       "  <tbody>\n",
       "    <tr>\n",
       "      <th>0</th>\n",
       "      <td>Just saw the black adam and had a great experi...</td>\n",
       "    </tr>\n",
       "    <tr>\n",
       "      <th>1</th>\n",
       "      <td>Once I start watching a movie I almost always ...</td>\n",
       "    </tr>\n",
       "    <tr>\n",
       "      <th>2</th>\n",
       "      <td>The movie isn't a bad movie the action sequenc...</td>\n",
       "    </tr>\n",
       "    <tr>\n",
       "      <th>3</th>\n",
       "      <td>The movie is a great time and definitely recom...</td>\n",
       "    </tr>\n",
       "    <tr>\n",
       "      <th>4</th>\n",
       "      <td>This movie was so continuous. I never felt lik...</td>\n",
       "    </tr>\n",
       "  </tbody>\n",
       "</table>\n",
       "</div>"
      ],
      "text/plain": [
       "                                              review\n",
       "0  Just saw the black adam and had a great experi...\n",
       "1  Once I start watching a movie I almost always ...\n",
       "2  The movie isn't a bad movie the action sequenc...\n",
       "3  The movie is a great time and definitely recom...\n",
       "4  This movie was so continuous. I never felt lik..."
      ]
     },
     "execution_count": 42,
     "metadata": {},
     "output_type": "execute_result"
    }
   ],
   "source": [
    "df.head()"
   ]
  },
  {
   "cell_type": "code",
   "execution_count": 43,
   "metadata": {
    "execution": {
     "iopub.execute_input": "2022-11-20T11:36:33.198466Z",
     "iopub.status.busy": "2022-11-20T11:36:33.198141Z",
     "iopub.status.idle": "2022-11-20T11:36:33.206969Z",
     "shell.execute_reply": "2022-11-20T11:36:33.205773Z",
     "shell.execute_reply.started": "2022-11-20T11:36:33.198437Z"
    }
   },
   "outputs": [
    {
     "data": {
      "text/plain": [
       "\"Just saw the black adam and had a great experience. Critics are judging this movie by the marvel standards with perfect ethics and first world problem. This is the first superhero movie I saw ehich shed a small light on the third world countries. Critics didn't relate to the problems of the third world countries so they have different understanding of a superhero. But superhero is not the one who doesn't kill but the one who understand what needs to be done. This is the perfect example of how DC universe should be build upon.I know it didn't had much character building done in the story. Although it showed alot more than that, that is, how to build a cenematic universe.\""
      ]
     },
     "execution_count": 43,
     "metadata": {},
     "output_type": "execute_result"
    }
   ],
   "source": [
    "df['review'].iloc[0]"
   ]
  },
  {
   "cell_type": "markdown",
   "metadata": {},
   "source": [
    "## Sentiment Score"
   ]
  },
  {
   "cell_type": "code",
   "execution_count": 44,
   "metadata": {
    "execution": {
     "iopub.execute_input": "2022-11-20T11:36:33.209121Z",
     "iopub.status.busy": "2022-11-20T11:36:33.208741Z",
     "iopub.status.idle": "2022-11-20T11:36:33.220867Z",
     "shell.execute_reply": "2022-11-20T11:36:33.219625Z",
     "shell.execute_reply.started": "2022-11-20T11:36:33.209089Z"
    }
   },
   "outputs": [],
   "source": [
    "def sentiment_score(review):\n",
    "    tokens = tokenizer.encode(review, return_tensors='pt')\n",
    "    result = model(tokens)\n",
    "    return int(torch.argmax(result.logits))+1"
   ]
  },
  {
   "cell_type": "code",
   "execution_count": 45,
   "metadata": {
    "execution": {
     "iopub.execute_input": "2022-11-20T11:36:33.223573Z",
     "iopub.status.busy": "2022-11-20T11:36:33.223062Z",
     "iopub.status.idle": "2022-11-20T11:36:33.538150Z",
     "shell.execute_reply": "2022-11-20T11:36:33.536959Z",
     "shell.execute_reply.started": "2022-11-20T11:36:33.223529Z"
    }
   },
   "outputs": [
    {
     "data": {
      "text/plain": [
       "2"
      ]
     },
     "execution_count": 45,
     "metadata": {},
     "output_type": "execute_result"
    }
   ],
   "source": [
    "sentiment_score(df['review'].iloc[1])"
   ]
  },
  {
   "cell_type": "code",
   "execution_count": 46,
   "metadata": {
    "execution": {
     "iopub.execute_input": "2022-11-20T11:36:33.541006Z",
     "iopub.status.busy": "2022-11-20T11:36:33.539752Z",
     "iopub.status.idle": "2022-11-20T11:36:39.451957Z",
     "shell.execute_reply": "2022-11-20T11:36:39.450796Z",
     "shell.execute_reply.started": "2022-11-20T11:36:33.540960Z"
    }
   },
   "outputs": [],
   "source": [
    "df['sentiment'] = df['review'].apply(lambda x: sentiment_score(x[:512]))"
   ]
  },
  {
   "cell_type": "code",
   "execution_count": 47,
   "metadata": {
    "execution": {
     "iopub.execute_input": "2022-11-20T11:36:39.453877Z",
     "iopub.status.busy": "2022-11-20T11:36:39.453520Z",
     "iopub.status.idle": "2022-11-20T11:36:39.465452Z",
     "shell.execute_reply": "2022-11-20T11:36:39.464246Z",
     "shell.execute_reply.started": "2022-11-20T11:36:39.453844Z"
    }
   },
   "outputs": [
    {
     "data": {
      "text/html": [
       "<div>\n",
       "<style scoped>\n",
       "    .dataframe tbody tr th:only-of-type {\n",
       "        vertical-align: middle;\n",
       "    }\n",
       "\n",
       "    .dataframe tbody tr th {\n",
       "        vertical-align: top;\n",
       "    }\n",
       "\n",
       "    .dataframe thead th {\n",
       "        text-align: right;\n",
       "    }\n",
       "</style>\n",
       "<table border=\"1\" class=\"dataframe\">\n",
       "  <thead>\n",
       "    <tr style=\"text-align: right;\">\n",
       "      <th></th>\n",
       "      <th>review</th>\n",
       "      <th>sentiment</th>\n",
       "    </tr>\n",
       "  </thead>\n",
       "  <tbody>\n",
       "    <tr>\n",
       "      <th>0</th>\n",
       "      <td>Just saw the black adam and had a great experi...</td>\n",
       "      <td>5</td>\n",
       "    </tr>\n",
       "    <tr>\n",
       "      <th>1</th>\n",
       "      <td>Once I start watching a movie I almost always ...</td>\n",
       "      <td>1</td>\n",
       "    </tr>\n",
       "    <tr>\n",
       "      <th>2</th>\n",
       "      <td>The movie isn't a bad movie the action sequenc...</td>\n",
       "      <td>3</td>\n",
       "    </tr>\n",
       "    <tr>\n",
       "      <th>3</th>\n",
       "      <td>The movie is a great time and definitely recom...</td>\n",
       "      <td>5</td>\n",
       "    </tr>\n",
       "    <tr>\n",
       "      <th>4</th>\n",
       "      <td>This movie was so continuous. I never felt lik...</td>\n",
       "      <td>4</td>\n",
       "    </tr>\n",
       "    <tr>\n",
       "      <th>5</th>\n",
       "      <td>Black Adam is a full on Cinamatic experience, ...</td>\n",
       "      <td>5</td>\n",
       "    </tr>\n",
       "    <tr>\n",
       "      <th>6</th>\n",
       "      <td>There are always the same mistakes. It's reall...</td>\n",
       "      <td>2</td>\n",
       "    </tr>\n",
       "    <tr>\n",
       "      <th>7</th>\n",
       "      <td>I set my bar low, so I wont be neither dissapo...</td>\n",
       "      <td>2</td>\n",
       "    </tr>\n",
       "    <tr>\n",
       "      <th>8</th>\n",
       "      <td>I watched this movie today. And (despite the f...</td>\n",
       "      <td>4</td>\n",
       "    </tr>\n",
       "    <tr>\n",
       "      <th>9</th>\n",
       "      <td>Black Adam is competently made. It handles set...</td>\n",
       "      <td>3</td>\n",
       "    </tr>\n",
       "    <tr>\n",
       "      <th>10</th>\n",
       "      <td>It wouldn't be wise to go into this movie with...</td>\n",
       "      <td>3</td>\n",
       "    </tr>\n",
       "    <tr>\n",
       "      <th>11</th>\n",
       "      <td>Hands down one of the best super hero movie ev...</td>\n",
       "      <td>5</td>\n",
       "    </tr>\n",
       "    <tr>\n",
       "      <th>12</th>\n",
       "      <td>Fun, epic, action packed movie, very enjoyable...</td>\n",
       "      <td>4</td>\n",
       "    </tr>\n",
       "    <tr>\n",
       "      <th>13</th>\n",
       "      <td>The film felt so good for me, it's absolutely ...</td>\n",
       "      <td>4</td>\n",
       "    </tr>\n",
       "    <tr>\n",
       "      <th>14</th>\n",
       "      <td>The latest installment in the DCEU has been cr...</td>\n",
       "      <td>4</td>\n",
       "    </tr>\n",
       "    <tr>\n",
       "      <th>15</th>\n",
       "      <td>The action of the movie was good. The vfx was ...</td>\n",
       "      <td>3</td>\n",
       "    </tr>\n",
       "    <tr>\n",
       "      <th>16</th>\n",
       "      <td>The Rock as Black Adam was totally believable....</td>\n",
       "      <td>4</td>\n",
       "    </tr>\n",
       "    <tr>\n",
       "      <th>17</th>\n",
       "      <td>This is a really great movie from DC after a w...</td>\n",
       "      <td>5</td>\n",
       "    </tr>\n",
       "    <tr>\n",
       "      <th>18</th>\n",
       "      <td>Watched it at the cinema today. I liked the fi...</td>\n",
       "      <td>2</td>\n",
       "    </tr>\n",
       "    <tr>\n",
       "      <th>19</th>\n",
       "      <td>I was expecting more since this is an action m...</td>\n",
       "      <td>3</td>\n",
       "    </tr>\n",
       "    <tr>\n",
       "      <th>20</th>\n",
       "      <td>I enjoyed Black Adam's refreshing story about ...</td>\n",
       "      <td>4</td>\n",
       "    </tr>\n",
       "    <tr>\n",
       "      <th>21</th>\n",
       "      <td>I wasn't entirely sure what to expect, but i e...</td>\n",
       "      <td>4</td>\n",
       "    </tr>\n",
       "    <tr>\n",
       "      <th>22</th>\n",
       "      <td>Let's get straight to the point:-\\nAction scen...</td>\n",
       "      <td>4</td>\n",
       "    </tr>\n",
       "    <tr>\n",
       "      <th>23</th>\n",
       "      <td>While the writing and story wasn't perfect, Bl...</td>\n",
       "      <td>4</td>\n",
       "    </tr>\n",
       "    <tr>\n",
       "      <th>24</th>\n",
       "      <td>As always i can't get entersted by watching DC...</td>\n",
       "      <td>4</td>\n",
       "    </tr>\n",
       "  </tbody>\n",
       "</table>\n",
       "</div>"
      ],
      "text/plain": [
       "                                               review  sentiment\n",
       "0   Just saw the black adam and had a great experi...          5\n",
       "1   Once I start watching a movie I almost always ...          1\n",
       "2   The movie isn't a bad movie the action sequenc...          3\n",
       "3   The movie is a great time and definitely recom...          5\n",
       "4   This movie was so continuous. I never felt lik...          4\n",
       "5   Black Adam is a full on Cinamatic experience, ...          5\n",
       "6   There are always the same mistakes. It's reall...          2\n",
       "7   I set my bar low, so I wont be neither dissapo...          2\n",
       "8   I watched this movie today. And (despite the f...          4\n",
       "9   Black Adam is competently made. It handles set...          3\n",
       "10  It wouldn't be wise to go into this movie with...          3\n",
       "11  Hands down one of the best super hero movie ev...          5\n",
       "12  Fun, epic, action packed movie, very enjoyable...          4\n",
       "13  The film felt so good for me, it's absolutely ...          4\n",
       "14  The latest installment in the DCEU has been cr...          4\n",
       "15  The action of the movie was good. The vfx was ...          3\n",
       "16  The Rock as Black Adam was totally believable....          4\n",
       "17  This is a really great movie from DC after a w...          5\n",
       "18  Watched it at the cinema today. I liked the fi...          2\n",
       "19  I was expecting more since this is an action m...          3\n",
       "20  I enjoyed Black Adam's refreshing story about ...          4\n",
       "21  I wasn't entirely sure what to expect, but i e...          4\n",
       "22  Let's get straight to the point:-\\nAction scen...          4\n",
       "23  While the writing and story wasn't perfect, Bl...          4\n",
       "24  As always i can't get entersted by watching DC...          4"
      ]
     },
     "execution_count": 47,
     "metadata": {},
     "output_type": "execute_result"
    }
   ],
   "source": [
    "df"
   ]
  },
  {
   "cell_type": "code",
   "execution_count": 48,
   "metadata": {
    "execution": {
     "iopub.execute_input": "2022-11-20T11:36:39.467526Z",
     "iopub.status.busy": "2022-11-20T11:36:39.467172Z",
     "iopub.status.idle": "2022-11-20T11:36:39.478773Z",
     "shell.execute_reply": "2022-11-20T11:36:39.477545Z",
     "shell.execute_reply.started": "2022-11-20T11:36:39.467494Z"
    }
   },
   "outputs": [
    {
     "data": {
      "text/plain": [
       "\"The movie is a great time and definitely recommend! The cgi could have been better and they cold have shown how strong Doctor fate was better. Doctor Fate is much stronger then they portrayed him to be. I think this is a great installment to the DCEU. I'm truly want to see more of Hawkman and Dr. Fate. No I need to see more of them. Would love to see them build up the justice society. Loved The justice society. Everything aft this point will be a repeat because I need a max of 600 characters to post this, just a heads up. The movie is a great time and definitely recommend! The cgi could have been better and they cold have shown how strong Doctor fate was better.\""
      ]
     },
     "execution_count": 48,
     "metadata": {},
     "output_type": "execute_result"
    }
   ],
   "source": [
    "df['review'].iloc[3]"
   ]
  },
  {
   "cell_type": "code",
   "execution_count": null,
   "metadata": {},
   "outputs": [],
   "source": []
  }
 ],
 "metadata": {
  "kernelspec": {
   "display_name": "Python 3 (ipykernel)",
   "language": "python",
   "name": "python3"
  },
  "language_info": {
   "codemirror_mode": {
    "name": "ipython",
    "version": 3
   },
   "file_extension": ".py",
   "mimetype": "text/x-python",
   "name": "python",
   "nbconvert_exporter": "python",
   "pygments_lexer": "ipython3",
   "version": "3.9.7"
  }
 },
 "nbformat": 4,
 "nbformat_minor": 4
}
